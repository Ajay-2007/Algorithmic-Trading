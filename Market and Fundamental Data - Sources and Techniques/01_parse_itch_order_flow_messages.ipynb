{
  "nbformat": 4,
  "nbformat_minor": 0,
  "metadata": {
    "colab": {
      "name": "01_parse_itch_order_flow_messages.ipynb",
      "provenance": []
    },
    "kernelspec": {
      "name": "python3",
      "display_name": "Python 3"
    }
  },
  "cells": [
    {
      "cell_type": "code",
      "metadata": {
        "id": "WiDc5zFri31p"
      },
      "source": [
        "import warnings\n",
        "warnings.filterwarnings('ignore')"
      ],
      "execution_count": 1,
      "outputs": []
    },
    {
      "cell_type": "code",
      "metadata": {
        "id": "d_I-E0eyjHxs"
      },
      "source": [
        "%matplotlib inline\n",
        "import gzip\n",
        "import shutil\n",
        "from struct import unpack\n",
        "from collections import namedtuple, Counter, defaultdict\n",
        "from pathlib import Path\n",
        "from urllib.request import urlretrieve\n",
        "from urllib.parse import urljoin\n",
        "from datetime import timedelta\n",
        "from time import time\n",
        "\n",
        "import pandas as pd\n",
        "\n",
        "import matplotlib.pyplot as plt\n",
        "from matplotlib.ticker import FuncFormatter\n",
        "import seaborn as sns"
      ],
      "execution_count": 3,
      "outputs": []
    },
    {
      "cell_type": "code",
      "metadata": {
        "id": "uOArDJJTjeSX"
      },
      "source": [
        "sns.set_style('whitegrid')"
      ],
      "execution_count": 4,
      "outputs": []
    },
    {
      "cell_type": "code",
      "metadata": {
        "id": "Dky36CP4jkHV"
      },
      "source": [
        "def format_time(t):\n",
        "  \"\"\"Return a formatted time string 'HH:MM:SS'\n",
        "  based on a numeric time() value\"\"\"\n",
        "  m, s = divmod(t, 60)\n",
        "  h, m = divmod(m, 60)\n",
        "  return f'{h:0>2.0f}:{m:0>2.2f}:{s:0>5.2f}'\n"
      ],
      "execution_count": 5,
      "outputs": []
    },
    {
      "cell_type": "markdown",
      "metadata": {
        "id": "3iBIr16Gkmf4"
      },
      "source": [
        "# Get NASDAQ ITCH Data from FTP Server"
      ]
    },
    {
      "cell_type": "code",
      "metadata": {
        "id": "yNlJrXbmj9iO"
      },
      "source": [
        "data_path = Path('data')\n",
        "itch_store = str(data_path / 'itch.h5')\n",
        "order_book_store = data_path / 'order_book.h5'"
      ],
      "execution_count": 6,
      "outputs": []
    },
    {
      "cell_type": "code",
      "metadata": {
        "id": "qVfAk1TWkwqi"
      },
      "source": [
        "FTP_URL = 'ftp://emi.nasdaq.com/ITCH/'\n",
        "SOURCE_FILE = '10302019.NASDAQ_ITCH50.gz'"
      ],
      "execution_count": 7,
      "outputs": []
    },
    {
      "cell_type": "code",
      "metadata": {
        "id": "wdcVhAaNk9Xy"
      },
      "source": [
        "def may_be_download(url):\n",
        "  \"\"\"Download & unzip ITCH data if not yet available\"\"\"\n",
        "  if not data_path.exists():\n",
        "    print('Creating directory')\n",
        "    data_path.mkdir()\n",
        "  else:\n",
        "    print('Directory exists')\n",
        "  \n",
        "  filename = data_path / url.split('/')[-1]\n",
        "  if not filename.exists():\n",
        "    print('Downloading...', url)\n",
        "    urlretrieve(url, filename)\n",
        "  else:\n",
        "    print('File exists')\n",
        "  \n",
        "  unzipped = data_path / (filename.stem + '.bin')\n",
        "  if not unzipped.exists():\n",
        "    print('Unzipping to', unzipped)\n",
        "    with gzip.open(str(filename), 'rb') as f_in:\n",
        "      with open(unzipped, 'wb') as f_out:\n",
        "        shutil.copyfileobj(f_in, f_out)\n",
        "  else:\n",
        "    print('File already unpacked')\n",
        "  \n",
        "  return unzipped\n"
      ],
      "execution_count": 9,
      "outputs": []
    },
    {
      "cell_type": "code",
      "metadata": {
        "id": "uyqngAyulz1k",
        "outputId": "08eab6c2-8ede-4f7a-f32f-899baa6568d4",
        "colab": {
          "base_uri": "https://localhost:8080/"
        }
      },
      "source": [
        "file_name = may_be_download(urljoin(FTP_URL, SOURCE_FILE))\n",
        "date = file_name.name.split('.')[0]"
      ],
      "execution_count": 10,
      "outputs": [
        {
          "output_type": "stream",
          "text": [
            "Creating directory\n",
            "Downloading... ftp://emi.nasdaq.com/ITCH/10302019.NASDAQ_ITCH50.gz\n",
            "Unzipping to data/10302019.NASDAQ_ITCH50.bin\n"
          ],
          "name": "stdout"
        }
      ]
    },
    {
      "cell_type": "markdown",
      "metadata": {
        "id": "S2dUIk3kmMhU"
      },
      "source": [
        "### Defining format strings\n",
        "\n",
        "The parser uses format strings according to the following formats dictionaries:"
      ]
    },
    {
      "cell_type": "code",
      "metadata": {
        "id": "C7w8Oht3l-pL"
      },
      "source": [
        "event_codes = {'O' : 'Start of Messages',\n",
        "               'S': 'Start of System Hours',\n",
        "               'Q': 'Start of Market Hours',\n",
        "               'M': 'End of Market Hours',\n",
        "               'E': 'End of System Hours',\n",
        "               'C': 'End of Messages'}"
      ],
      "execution_count": 11,
      "outputs": []
    },
    {
      "cell_type": "code",
      "metadata": {
        "id": "f9pd6PsUmhGT"
      },
      "source": [
        "encoding = {'primary_market_maker' : {'Y': 1, 'N': 0},\n",
        "            'printable'             : {'Y': 1, 'N': 0},\n",
        "            'buy_sell_indicator'    : {'B': 1, 'S': -1},\n",
        "            'cross_type'            : {'O': 0, 'C': 1, 'H': 2},\n",
        "            'imbalance_direction'   : {'B': 0, 'S': 1, 'N': 0, '0': -1}}"
      ],
      "execution_count": 12,
      "outputs": []
    },
    {
      "cell_type": "code",
      "metadata": {
        "id": "gyL3WHT_nC4X"
      },
      "source": [
        "formats = {\n",
        "    ('integer', 2): 'H',  # int of length 2 => format string 'H'\n",
        "    ('integer', 4): 'I',\n",
        "    ('integer', 6): '6s', # int of length 6 => parse as string, convert later\n",
        "\n",
        "    ('integer', 8): 'Q',\n",
        "    ('alpha', 1)  : 's',\n",
        "    ('alpha', 2)  : '2s',\n",
        "    ('alpha', 4)  : '4s',\n",
        "    ('alpha', 8)  : '8s',\n",
        "    ('price_4', 4): 'I',\n",
        "    ('price_8', 8): 'Q',\n",
        "}"
      ],
      "execution_count": 13,
      "outputs": []
    },
    {
      "cell_type": "markdown",
      "metadata": {
        "id": "60whe9g5oRwW"
      },
      "source": [
        "### Create message specs for binary data parser"
      ]
    },
    {
      "cell_type": "code",
      "metadata": {
        "id": "05WX58Kanphg"
      },
      "source": [
        "message_data = (pd.read_excel('message_types.xlsx',\n",
        "                              sheet_name='messages')\n",
        "                .sort_values('id')\n",
        "                .drop('id', axis=1))"
      ],
      "execution_count": 14,
      "outputs": []
    },
    {
      "cell_type": "code",
      "metadata": {
        "id": "bZbyB3gpoiuJ",
        "outputId": "f9265ce2-f085-411c-89ad-536c638905a8",
        "colab": {
          "base_uri": "https://localhost:8080/",
          "height": 198
        }
      },
      "source": [
        "message_data.head()"
      ],
      "execution_count": 15,
      "outputs": [
        {
          "output_type": "execute_result",
          "data": {
            "text/html": [
              "<div>\n",
              "<style scoped>\n",
              "    .dataframe tbody tr th:only-of-type {\n",
              "        vertical-align: middle;\n",
              "    }\n",
              "\n",
              "    .dataframe tbody tr th {\n",
              "        vertical-align: top;\n",
              "    }\n",
              "\n",
              "    .dataframe thead th {\n",
              "        text-align: right;\n",
              "    }\n",
              "</style>\n",
              "<table border=\"1\" class=\"dataframe\">\n",
              "  <thead>\n",
              "    <tr style=\"text-align: right;\">\n",
              "      <th></th>\n",
              "      <th>Name</th>\n",
              "      <th>Offset</th>\n",
              "      <th>Length</th>\n",
              "      <th>Value</th>\n",
              "      <th>Notes</th>\n",
              "    </tr>\n",
              "  </thead>\n",
              "  <tbody>\n",
              "    <tr>\n",
              "      <th>0</th>\n",
              "      <td>Message Type</td>\n",
              "      <td>0</td>\n",
              "      <td>1</td>\n",
              "      <td>S</td>\n",
              "      <td>System Event Message</td>\n",
              "    </tr>\n",
              "    <tr>\n",
              "      <th>1</th>\n",
              "      <td>Stock Locate</td>\n",
              "      <td>1</td>\n",
              "      <td>2</td>\n",
              "      <td>Integer</td>\n",
              "      <td>Always 0</td>\n",
              "    </tr>\n",
              "    <tr>\n",
              "      <th>2</th>\n",
              "      <td>Tracking Number</td>\n",
              "      <td>3</td>\n",
              "      <td>2</td>\n",
              "      <td>Integer</td>\n",
              "      <td>Nasdaq internal tracking number</td>\n",
              "    </tr>\n",
              "    <tr>\n",
              "      <th>3</th>\n",
              "      <td>Timestamp</td>\n",
              "      <td>5</td>\n",
              "      <td>6</td>\n",
              "      <td>Integer</td>\n",
              "      <td>Nanoseconds since midnight</td>\n",
              "    </tr>\n",
              "    <tr>\n",
              "      <th>4</th>\n",
              "      <td>Event Code</td>\n",
              "      <td>11</td>\n",
              "      <td>1</td>\n",
              "      <td>Alpha</td>\n",
              "      <td>See System Event Codes below</td>\n",
              "    </tr>\n",
              "  </tbody>\n",
              "</table>\n",
              "</div>"
            ],
            "text/plain": [
              "              Name   Offset   ...    Value                             Notes \n",
              "0     Message Type         0  ...         S             System Event Message \n",
              "1     Stock Locate         1  ...  Integer                          Always 0 \n",
              "2  Tracking Number         3  ...  Integer   Nasdaq internal tracking number \n",
              "3        Timestamp         5  ...  Integer        Nanoseconds since midnight \n",
              "4       Event Code        11  ...    Alpha      See System Event Codes below \n",
              "\n",
              "[5 rows x 5 columns]"
            ]
          },
          "metadata": {
            "tags": []
          },
          "execution_count": 15
        }
      ]
    },
    {
      "cell_type": "code",
      "metadata": {
        "id": "o7xXvkZPokvT"
      },
      "source": [
        "def clean_message_types(df):\n",
        "  df.columns = [c.lower().strip() for c in df.columns]\n",
        "  df.value = df.value.str.strip()\n",
        "  df.name = (df.name\n",
        "             .str.strip() # remove whitespace\n",
        "             .str.lower()\n",
        "             .str.replace(' ', '_')\n",
        "             .str.replace('-', '_')\n",
        "             .str.replace('/', '_'))\n",
        "  df.notes = df.notes.str.strip()\n",
        "  df['message_type'] = df.loc[df.name == 'message_type', 'value']\n",
        "  return df"
      ],
      "execution_count": 17,
      "outputs": []
    },
    {
      "cell_type": "code",
      "metadata": {
        "id": "UtcYEGbdrClx"
      },
      "source": [
        "message_types = clean_message_types(message_data)"
      ],
      "execution_count": 18,
      "outputs": []
    },
    {
      "cell_type": "markdown",
      "metadata": {
        "id": "XLULiIvlrx05"
      },
      "source": [
        "### Get Message Labels\n",
        "We extract message type codes and names so we can later make the results more readable."
      ]
    },
    {
      "cell_type": "code",
      "metadata": {
        "id": "oKyKNdv-rF3f",
        "outputId": "23d3b271-5c34-42b6-9d03-a7f67e11be06",
        "colab": {
          "base_uri": "https://localhost:8080/",
          "height": 198
        }
      },
      "source": [
        "message_labels = (message_types.loc[:, ['message_type', 'notes']]\n",
        "                  .dropna()\n",
        "                  .rename(columns={'notes': 'name'}))\n",
        "\n",
        "message_labels.name = (message_labels.name\n",
        "                       .str.lower()\n",
        "                       .str.replace('message', '')\n",
        "                       .str.replace('.', '')\n",
        "                       .str.strip().str.replace(' ', '_'))\n",
        "\n",
        "message_labels.to_csv('message_labels.csv', index=False)\n",
        "message_labels.head()"
      ],
      "execution_count": 19,
      "outputs": [
        {
          "output_type": "execute_result",
          "data": {
            "text/html": [
              "<div>\n",
              "<style scoped>\n",
              "    .dataframe tbody tr th:only-of-type {\n",
              "        vertical-align: middle;\n",
              "    }\n",
              "\n",
              "    .dataframe tbody tr th {\n",
              "        vertical-align: top;\n",
              "    }\n",
              "\n",
              "    .dataframe thead th {\n",
              "        text-align: right;\n",
              "    }\n",
              "</style>\n",
              "<table border=\"1\" class=\"dataframe\">\n",
              "  <thead>\n",
              "    <tr style=\"text-align: right;\">\n",
              "      <th></th>\n",
              "      <th>message_type</th>\n",
              "      <th>name</th>\n",
              "    </tr>\n",
              "  </thead>\n",
              "  <tbody>\n",
              "    <tr>\n",
              "      <th>0</th>\n",
              "      <td>S</td>\n",
              "      <td>system_event</td>\n",
              "    </tr>\n",
              "    <tr>\n",
              "      <th>5</th>\n",
              "      <td>R</td>\n",
              "      <td>stock_directory</td>\n",
              "    </tr>\n",
              "    <tr>\n",
              "      <th>23</th>\n",
              "      <td>H</td>\n",
              "      <td>stock_trading_action</td>\n",
              "    </tr>\n",
              "    <tr>\n",
              "      <th>31</th>\n",
              "      <td>Y</td>\n",
              "      <td>reg_sho_short_sale_price_test_restricted_indic...</td>\n",
              "    </tr>\n",
              "    <tr>\n",
              "      <th>37</th>\n",
              "      <td>L</td>\n",
              "      <td>market_participant_position</td>\n",
              "    </tr>\n",
              "  </tbody>\n",
              "</table>\n",
              "</div>"
            ],
            "text/plain": [
              "   message_type                                               name\n",
              "0             S                                       system_event\n",
              "5             R                                    stock_directory\n",
              "23            H                               stock_trading_action\n",
              "31            Y  reg_sho_short_sale_price_test_restricted_indic...\n",
              "37            L                        market_participant_position"
            ]
          },
          "metadata": {
            "tags": []
          },
          "execution_count": 19
        }
      ]
    },
    {
      "cell_type": "markdown",
      "metadata": {
        "id": "9wUSo5vltIXc"
      },
      "source": [
        "### Finalize specification details\n",
        "\n",
        "Each message consists of several fields that are defined by offset, length and type of value. The struct module will use this format information to parse the binary source data."
      ]
    },
    {
      "cell_type": "code",
      "metadata": {
        "id": "zweumSeGsR_8",
        "outputId": "e75ce988-103b-4741-df67-c84e9d12359f",
        "colab": {
          "base_uri": "https://localhost:8080/"
        }
      },
      "source": [
        "message_types.message_type = message_types.message_type.ffill()\n",
        "message_types = message_types[message_types.name != 'message_type']\n",
        "message_types.value = (message_types.value\n",
        "                       .str.lower()\n",
        "                       .str.replace(' ', '_')\n",
        "                       .str.replace('(', '')\n",
        "                       .str.replace(')', ''))\n",
        "\n",
        "message_types.info()"
      ],
      "execution_count": 20,
      "outputs": [
        {
          "output_type": "stream",
          "text": [
            "<class 'pandas.core.frame.DataFrame'>\n",
            "Int64Index: 152 entries, 1 to 172\n",
            "Data columns (total 6 columns):\n",
            " #   Column        Non-Null Count  Dtype \n",
            "---  ------        --------------  ----- \n",
            " 0   name          152 non-null    object\n",
            " 1   offset        152 non-null    int64 \n",
            " 2   length        152 non-null    int64 \n",
            " 3   value         152 non-null    object\n",
            " 4   notes         152 non-null    object\n",
            " 5   message_type  152 non-null    object\n",
            "dtypes: int64(2), object(4)\n",
            "memory usage: 8.3+ KB\n"
          ],
          "name": "stdout"
        }
      ]
    },
    {
      "cell_type": "code",
      "metadata": {
        "id": "pF5h0SMSto3U",
        "outputId": "79d664d5-dd5c-448b-c01c-c463d13e2cae",
        "colab": {
          "base_uri": "https://localhost:8080/",
          "height": 198
        }
      },
      "source": [
        "message_types.head()"
      ],
      "execution_count": 21,
      "outputs": [
        {
          "output_type": "execute_result",
          "data": {
            "text/html": [
              "<div>\n",
              "<style scoped>\n",
              "    .dataframe tbody tr th:only-of-type {\n",
              "        vertical-align: middle;\n",
              "    }\n",
              "\n",
              "    .dataframe tbody tr th {\n",
              "        vertical-align: top;\n",
              "    }\n",
              "\n",
              "    .dataframe thead th {\n",
              "        text-align: right;\n",
              "    }\n",
              "</style>\n",
              "<table border=\"1\" class=\"dataframe\">\n",
              "  <thead>\n",
              "    <tr style=\"text-align: right;\">\n",
              "      <th></th>\n",
              "      <th>name</th>\n",
              "      <th>offset</th>\n",
              "      <th>length</th>\n",
              "      <th>value</th>\n",
              "      <th>notes</th>\n",
              "      <th>message_type</th>\n",
              "    </tr>\n",
              "  </thead>\n",
              "  <tbody>\n",
              "    <tr>\n",
              "      <th>1</th>\n",
              "      <td>stock_locate</td>\n",
              "      <td>1</td>\n",
              "      <td>2</td>\n",
              "      <td>integer</td>\n",
              "      <td>Always 0</td>\n",
              "      <td>S</td>\n",
              "    </tr>\n",
              "    <tr>\n",
              "      <th>2</th>\n",
              "      <td>tracking_number</td>\n",
              "      <td>3</td>\n",
              "      <td>2</td>\n",
              "      <td>integer</td>\n",
              "      <td>Nasdaq internal tracking number</td>\n",
              "      <td>S</td>\n",
              "    </tr>\n",
              "    <tr>\n",
              "      <th>3</th>\n",
              "      <td>timestamp</td>\n",
              "      <td>5</td>\n",
              "      <td>6</td>\n",
              "      <td>integer</td>\n",
              "      <td>Nanoseconds since midnight</td>\n",
              "      <td>S</td>\n",
              "    </tr>\n",
              "    <tr>\n",
              "      <th>4</th>\n",
              "      <td>event_code</td>\n",
              "      <td>11</td>\n",
              "      <td>1</td>\n",
              "      <td>alpha</td>\n",
              "      <td>See System Event Codes below</td>\n",
              "      <td>S</td>\n",
              "    </tr>\n",
              "    <tr>\n",
              "      <th>6</th>\n",
              "      <td>stock_locate</td>\n",
              "      <td>1</td>\n",
              "      <td>2</td>\n",
              "      <td>integer</td>\n",
              "      <td>Locate Code uniquely assigned to the security ...</td>\n",
              "      <td>R</td>\n",
              "    </tr>\n",
              "  </tbody>\n",
              "</table>\n",
              "</div>"
            ],
            "text/plain": [
              "              name  ...  message_type\n",
              "1     stock_locate  ...             S\n",
              "2  tracking_number  ...             S\n",
              "3        timestamp  ...             S\n",
              "4       event_code  ...             S\n",
              "6     stock_locate  ...             R\n",
              "\n",
              "[5 rows x 6 columns]"
            ]
          },
          "metadata": {
            "tags": []
          },
          "execution_count": 21
        }
      ]
    },
    {
      "cell_type": "code",
      "metadata": {
        "id": "7caiKphRtrrQ"
      },
      "source": [
        "message_types.to_csv('message_types.csv', index=False)"
      ],
      "execution_count": 22,
      "outputs": []
    },
    {
      "cell_type": "code",
      "metadata": {
        "id": "qY585Ll2txRh"
      },
      "source": [
        "message_types = pd.read_csv('message_types.csv')"
      ],
      "execution_count": 23,
      "outputs": []
    },
    {
      "cell_type": "markdown",
      "metadata": {
        "id": "evVJpI03t8OZ"
      },
      "source": [
        "The parser translates the message specs into format strings and namedtuples that capture the message content. First we create (type, length) formatting tuples from ITCH specs:"
      ]
    },
    {
      "cell_type": "code",
      "metadata": {
        "id": "_Akfi7VNuE5H"
      },
      "source": [
        "message_types.loc[:, 'formats'] = (message_types[['value', 'length']]\n",
        "                                   .apply(tuple, axis=1).map(formats))"
      ],
      "execution_count": 24,
      "outputs": []
    },
    {
      "cell_type": "markdown",
      "metadata": {
        "id": "1zZ6qiiguQI_"
      },
      "source": [
        "Then, we extract formatting details for alphanumerical fields"
      ]
    },
    {
      "cell_type": "code",
      "metadata": {
        "id": "E6xFc3lLuOKw"
      },
      "source": [
        "alpha_fields = message_types[message_types.value == 'alpha'].set_index('name')\n",
        "alpha_msgs = alpha_fields.groupby('message_type')\n",
        "alpha_formats = {k: v.to_dict() for k,v in alpha_msgs.formats}\n",
        "alpha_length = {k: v.add(5).to_dict() for k,v in alpha_msgs.length}"
      ],
      "execution_count": 25,
      "outputs": []
    },
    {
      "cell_type": "markdown",
      "metadata": {
        "id": "opi2WHaAuptR"
      },
      "source": [
        "We generate message classes as named tuples and format strings"
      ]
    },
    {
      "cell_type": "code",
      "metadata": {
        "id": "qF9yyMMfunVn"
      },
      "source": [
        "message_fields, fstring = {}, {}\n",
        "for t, message in message_types.groupby('message_type'):\n",
        "  message_fields[t] = namedtuple(typename=t, field_names=message.name.tolist())\n",
        "  fstring[t] = '>' + ''.join(message.formats.tolist())"
      ],
      "execution_count": 26,
      "outputs": []
    },
    {
      "cell_type": "code",
      "metadata": {
        "id": "yrKd7XLVu9uI",
        "outputId": "496bdfbd-3905-4ada-e874-ea9410e97621",
        "colab": {
          "base_uri": "https://localhost:8080/"
        }
      },
      "source": [
        "alpha_fields.info()"
      ],
      "execution_count": 27,
      "outputs": [
        {
          "output_type": "stream",
          "text": [
            "<class 'pandas.core.frame.DataFrame'>\n",
            "Index: 45 entries, event_code to price_variation_indicator\n",
            "Data columns (total 6 columns):\n",
            " #   Column        Non-Null Count  Dtype \n",
            "---  ------        --------------  ----- \n",
            " 0   offset        45 non-null     int64 \n",
            " 1   length        45 non-null     int64 \n",
            " 2   value         45 non-null     object\n",
            " 3   notes         45 non-null     object\n",
            " 4   message_type  45 non-null     object\n",
            " 5   formats       45 non-null     object\n",
            "dtypes: int64(2), object(4)\n",
            "memory usage: 2.5+ KB\n"
          ],
          "name": "stdout"
        }
      ]
    },
    {
      "cell_type": "code",
      "metadata": {
        "id": "A3fGYhTzu-wa",
        "outputId": "d501d965-66c8-4718-d600-50d25f41b1f9",
        "colab": {
          "base_uri": "https://localhost:8080/",
          "height": 297
        }
      },
      "source": [
        "alpha_fields.head()"
      ],
      "execution_count": 28,
      "outputs": [
        {
          "output_type": "execute_result",
          "data": {
            "text/html": [
              "<div>\n",
              "<style scoped>\n",
              "    .dataframe tbody tr th:only-of-type {\n",
              "        vertical-align: middle;\n",
              "    }\n",
              "\n",
              "    .dataframe tbody tr th {\n",
              "        vertical-align: top;\n",
              "    }\n",
              "\n",
              "    .dataframe thead th {\n",
              "        text-align: right;\n",
              "    }\n",
              "</style>\n",
              "<table border=\"1\" class=\"dataframe\">\n",
              "  <thead>\n",
              "    <tr style=\"text-align: right;\">\n",
              "      <th></th>\n",
              "      <th>offset</th>\n",
              "      <th>length</th>\n",
              "      <th>value</th>\n",
              "      <th>notes</th>\n",
              "      <th>message_type</th>\n",
              "      <th>formats</th>\n",
              "    </tr>\n",
              "    <tr>\n",
              "      <th>name</th>\n",
              "      <th></th>\n",
              "      <th></th>\n",
              "      <th></th>\n",
              "      <th></th>\n",
              "      <th></th>\n",
              "      <th></th>\n",
              "    </tr>\n",
              "  </thead>\n",
              "  <tbody>\n",
              "    <tr>\n",
              "      <th>event_code</th>\n",
              "      <td>11</td>\n",
              "      <td>1</td>\n",
              "      <td>alpha</td>\n",
              "      <td>See System Event Codes below</td>\n",
              "      <td>S</td>\n",
              "      <td>s</td>\n",
              "    </tr>\n",
              "    <tr>\n",
              "      <th>stock</th>\n",
              "      <td>11</td>\n",
              "      <td>8</td>\n",
              "      <td>alpha</td>\n",
              "      <td>Denotes the security symbol for the issue in t...</td>\n",
              "      <td>R</td>\n",
              "      <td>8s</td>\n",
              "    </tr>\n",
              "    <tr>\n",
              "      <th>market_category</th>\n",
              "      <td>19</td>\n",
              "      <td>1</td>\n",
              "      <td>alpha</td>\n",
              "      <td>Indicates Listing market or listing market tie...</td>\n",
              "      <td>R</td>\n",
              "      <td>s</td>\n",
              "    </tr>\n",
              "    <tr>\n",
              "      <th>financial_status_indicator</th>\n",
              "      <td>20</td>\n",
              "      <td>1</td>\n",
              "      <td>alpha</td>\n",
              "      <td>For Nasdaq listed issues, this field indicates...</td>\n",
              "      <td>R</td>\n",
              "      <td>s</td>\n",
              "    </tr>\n",
              "    <tr>\n",
              "      <th>round_lots_only</th>\n",
              "      <td>25</td>\n",
              "      <td>1</td>\n",
              "      <td>alpha</td>\n",
              "      <td>Indicates if Nasdaq system limits order entry ...</td>\n",
              "      <td>R</td>\n",
              "      <td>s</td>\n",
              "    </tr>\n",
              "  </tbody>\n",
              "</table>\n",
              "</div>"
            ],
            "text/plain": [
              "                            offset  length  ... message_type formats\n",
              "name                                        ...                     \n",
              "event_code                      11       1  ...            S       s\n",
              "stock                           11       8  ...            R      8s\n",
              "market_category                 19       1  ...            R       s\n",
              "financial_status_indicator      20       1  ...            R       s\n",
              "round_lots_only                 25       1  ...            R       s\n",
              "\n",
              "[5 rows x 6 columns]"
            ]
          },
          "metadata": {
            "tags": []
          },
          "execution_count": 28
        }
      ]
    },
    {
      "cell_type": "markdown",
      "metadata": {
        "id": "xaQHiWfFvIZZ"
      },
      "source": [
        "Fields of alpha type (alphanumeric) require post-processing as defined in the format_alpha function:"
      ]
    },
    {
      "cell_type": "code",
      "metadata": {
        "id": "4OS7aoJ1vClw"
      },
      "source": [
        "def format_alpha(mtype, data):\n",
        "  \"\"\"Process byte strings of type alpha\"\"\"\n",
        "\n",
        "  for col in alpha_formats.get(mtype).keys():\n",
        "    if mtype != 'R' and col == 'stock':\n",
        "      data = data.drop(col, axis=1)\n",
        "      continue\n",
        "    data.loc[:, col] = data.loc[:, col].str.decode(\"utf-8\").str.strip()\n",
        "    if encoding.get(col):\n",
        "      data.loc[:, col] = data.loc[:, col].map(encoding.get(col))\n",
        "  return data"
      ],
      "execution_count": 29,
      "outputs": []
    },
    {
      "cell_type": "markdown",
      "metadata": {
        "id": "E7lmLX7Nvpo5"
      },
      "source": [
        "## Process Binary Message Data\n",
        "The binary file for a single day contains over 350,000,000 messages worth over 12 GB."
      ]
    },
    {
      "cell_type": "code",
      "metadata": {
        "id": "6Zk6nLw9vmWa"
      },
      "source": [
        "def store_messages(m):\n",
        "  \"\"\"Handle occasional storing of all messages\"\"\"\n",
        "  with pd.HDFStore(itch_store) as store:\n",
        "    for mtype, data in m.items():\n",
        "      # convert to DataFrame\n",
        "      data = pd.DataFrame(data)\n",
        "\n",
        "      # parse timestamp info\n",
        "      data.timestamp = data.timestamp.apply(int.from_bytes, byteorder='big')\n",
        "      data.timestamp = pd.to_timedelta(data.timestamp)\n",
        "\n",
        "      # apply alpha formatting\n",
        "      if mtype in alpha_formats.keys():\n",
        "        data = format_alpha(mtype, data)\n",
        "      \n",
        "      s = alpha_length.get(mtype)\n",
        "\n",
        "      if s:\n",
        "        s = {c: s.get(c) for c in data.columns}\n",
        "      dc = ['stock_locate']\n",
        "      if m == 'R':\n",
        "        dc.append('stock')\n",
        "      try:\n",
        "        store.append(mtype,\n",
        "                     data,\n",
        "                     format='t',\n",
        "                     min_itemsize=s,\n",
        "                     data_columns=dc)\n",
        "      except Exception as e:\n",
        "        print(e)\n",
        "        print(mtype)\n",
        "        print(data.info())\n",
        "        print(pd.Series(list(m.keys())).value_counts())\n",
        "        data.to_csv('data.csv', index=False)\n",
        "        return 1\n",
        "\n",
        "  return 0\n",
        "\n",
        "      "
      ],
      "execution_count": 31,
      "outputs": []
    },
    {
      "cell_type": "code",
      "metadata": {
        "id": "Ije2zSMS1Cx9"
      },
      "source": [
        "messages = defaultdict(list)\n",
        "message_count = 0\n",
        "message_type_counter = Counter()"
      ],
      "execution_count": 35,
      "outputs": []
    },
    {
      "cell_type": "markdown",
      "metadata": {
        "id": "E_r74M5u8bDC"
      },
      "source": [
        "The following code processes the binary file and produces the parsed orders stored by message type:"
      ]
    },
    {
      "cell_type": "code",
      "metadata": {
        "id": "fIroYjUf8UET",
        "outputId": "10e92b6e-a5fe-45e4-a698-aa97b0c40282",
        "colab": {
          "base_uri": "https://localhost:8080/"
        }
      },
      "source": [
        "start = time()\n",
        "\n",
        "with file_name.open('rb') as data:\n",
        "  while True:\n",
        "\n",
        "    # determine message size in bytes\n",
        "    message_size = int.from_bytes(data.read(2), byteorder='big', signed=False)\n",
        "\n",
        "    # get message type by reading first byte\n",
        "    message_type = data.read(1).decode('ascii')\n",
        "    message_type_counter.update([message_type])\n",
        "\n",
        "    # read & store message\n",
        "    record = data.read(message_size - 1)\n",
        "    message = message_fields[message_type]._make(unpack(fstring[message_type], record))\n",
        "    messages[message_type].append(message)\n",
        "\n",
        "    # deal with system events\n",
        "    if message_type == 'S':\n",
        "      seconds = int.from_bytes(message.timestamp, byteorder='big') * 1e-9\n",
        "      print('\\n', event_codes.get(message.event_code.decode('ascii'), 'Error'))\n",
        "      if message.event_code.decode('ascii') == 'C':\n",
        "        store_messages(messages)\n",
        "        break\n",
        "    message_count += 1\n",
        "\n",
        "    if message_count % 2.5e7 == 0:\n",
        "      seconds = int.from_bytes(message.timestamp, byteorder='big') * 1e-9\n",
        "      d = format_time(time() - start)\n",
        "      print(f'\\t{format_time(seconds)}\\t{message_count:12,.0f}\\t{d}')\n",
        "      res = store_messages(messages)\n",
        "      if res == 1:\n",
        "        print(pd.Series(dict(message_type_counter)).sort_values())\n",
        "        break\n",
        "      messages.clear()\n",
        "  \n",
        "print('Duration:', format_time(time() - start))\n"
      ],
      "execution_count": 36,
      "outputs": [
        {
          "output_type": "stream",
          "text": [
            "\n",
            " Start of Messages\n",
            "\n",
            " Start of System Hours\n",
            "\n",
            " Start of Market Hours\n",
            "\t09:44.00:09.23\t  25,000,000\t00:2.00:25.82\n",
            "\t10:7.00:45.15\t  50,000,000\t00:7.00:39.39\n",
            "\t10:39.00:56.24\t  75,000,000\t00:12.00:38.82\n",
            "\t11:18.00:09.64\t 100,000,000\t00:17.00:30.00\n",
            "\t11:58.00:35.35\t 125,000,000\t00:22.00:30.53\n",
            "\t12:44.00:20.61\t 150,000,000\t00:27.00:35.11\n",
            "\t13:41.00:03.75\t 175,000,000\t00:32.00:37.43\n",
            "\t14:18.00:44.52\t 200,000,000\t00:37.00:37.58\n",
            "\t14:49.00:19.38\t 225,000,000\t00:42.00:36.95\n",
            "\t15:19.00:40.72\t 250,000,000\t00:47.00:39.86\n",
            "\t15:50.00:23.01\t 275,000,000\t00:52.00:43.28\n",
            "\n",
            " End of Market Hours\n",
            "\n",
            " End of System Hours\n",
            "\n",
            " End of Messages\n",
            "Duration: 00:59.00:25.65\n"
          ],
          "name": "stdout"
        }
      ]
    },
    {
      "cell_type": "markdown",
      "metadata": {
        "id": "76csmhZY-H2n"
      },
      "source": [
        "## Summarize Trading Day\n",
        "\n",
        "### Trading Message Frequency"
      ]
    },
    {
      "cell_type": "code",
      "metadata": {
        "id": "DKxQGle78mHy",
        "outputId": "db89ba00-440c-4037-967d-47dce5309fb2",
        "colab": {
          "base_uri": "https://localhost:8080/",
          "height": 588
        }
      },
      "source": [
        "counter = pd.Series(message_type_counter).to_frame('# Trades')\n",
        "counter['Message Type'] = counter.index.map(message_labels.set_index('message_type').name.to_dict())\n",
        "counter = counter[['Message Type', '# Trades']].sort_values('# Trades', ascending=False)\n",
        "counter"
      ],
      "execution_count": 37,
      "outputs": [
        {
          "output_type": "execute_result",
          "data": {
            "text/html": [
              "<div>\n",
              "<style scoped>\n",
              "    .dataframe tbody tr th:only-of-type {\n",
              "        vertical-align: middle;\n",
              "    }\n",
              "\n",
              "    .dataframe tbody tr th {\n",
              "        vertical-align: top;\n",
              "    }\n",
              "\n",
              "    .dataframe thead th {\n",
              "        text-align: right;\n",
              "    }\n",
              "</style>\n",
              "<table border=\"1\" class=\"dataframe\">\n",
              "  <thead>\n",
              "    <tr style=\"text-align: right;\">\n",
              "      <th></th>\n",
              "      <th>Message Type</th>\n",
              "      <th># Trades</th>\n",
              "    </tr>\n",
              "  </thead>\n",
              "  <tbody>\n",
              "    <tr>\n",
              "      <th>A</th>\n",
              "      <td>add_order_no_mpid_attribution</td>\n",
              "      <td>127214649</td>\n",
              "    </tr>\n",
              "    <tr>\n",
              "      <th>D</th>\n",
              "      <td>order_delete</td>\n",
              "      <td>123296742</td>\n",
              "    </tr>\n",
              "    <tr>\n",
              "      <th>U</th>\n",
              "      <td>order_replace</td>\n",
              "      <td>25513651</td>\n",
              "    </tr>\n",
              "    <tr>\n",
              "      <th>E</th>\n",
              "      <td>order_executed</td>\n",
              "      <td>7316703</td>\n",
              "    </tr>\n",
              "    <tr>\n",
              "      <th>I</th>\n",
              "      <td>noii</td>\n",
              "      <td>3740140</td>\n",
              "    </tr>\n",
              "    <tr>\n",
              "      <th>X</th>\n",
              "      <td>order_cancel</td>\n",
              "      <td>3568735</td>\n",
              "    </tr>\n",
              "    <tr>\n",
              "      <th>P</th>\n",
              "      <td>trade</td>\n",
              "      <td>1525363</td>\n",
              "    </tr>\n",
              "    <tr>\n",
              "      <th>F</th>\n",
              "      <td>add_order_mpid_attribution</td>\n",
              "      <td>1423908</td>\n",
              "    </tr>\n",
              "    <tr>\n",
              "      <th>L</th>\n",
              "      <td>market_participant_position</td>\n",
              "      <td>214865</td>\n",
              "    </tr>\n",
              "    <tr>\n",
              "      <th>C</th>\n",
              "      <td>order_executed_with_price</td>\n",
              "      <td>129729</td>\n",
              "    </tr>\n",
              "    <tr>\n",
              "      <th>Q</th>\n",
              "      <td>cross_trade</td>\n",
              "      <td>17775</td>\n",
              "    </tr>\n",
              "    <tr>\n",
              "      <th>Y</th>\n",
              "      <td>reg_sho_short_sale_price_test_restricted_indic...</td>\n",
              "      <td>9025</td>\n",
              "    </tr>\n",
              "    <tr>\n",
              "      <th>H</th>\n",
              "      <td>stock_trading_action</td>\n",
              "      <td>8897</td>\n",
              "    </tr>\n",
              "    <tr>\n",
              "      <th>R</th>\n",
              "      <td>stock_directory</td>\n",
              "      <td>8887</td>\n",
              "    </tr>\n",
              "    <tr>\n",
              "      <th>S</th>\n",
              "      <td>system_event</td>\n",
              "      <td>6</td>\n",
              "    </tr>\n",
              "    <tr>\n",
              "      <th>J</th>\n",
              "      <td>luld_auction_collar</td>\n",
              "      <td>2</td>\n",
              "    </tr>\n",
              "    <tr>\n",
              "      <th>V</th>\n",
              "      <td>market_wide_circuit_breaker_decline_level</td>\n",
              "      <td>1</td>\n",
              "    </tr>\n",
              "    <tr>\n",
              "      <th>B</th>\n",
              "      <td>broken_trade</td>\n",
              "      <td>1</td>\n",
              "    </tr>\n",
              "  </tbody>\n",
              "</table>\n",
              "</div>"
            ],
            "text/plain": [
              "                                        Message Type   # Trades\n",
              "A                      add_order_no_mpid_attribution  127214649\n",
              "D                                       order_delete  123296742\n",
              "U                                      order_replace   25513651\n",
              "E                                     order_executed    7316703\n",
              "I                                               noii    3740140\n",
              "X                                       order_cancel    3568735\n",
              "P                                              trade    1525363\n",
              "F                         add_order_mpid_attribution    1423908\n",
              "L                        market_participant_position     214865\n",
              "C                          order_executed_with_price     129729\n",
              "Q                                        cross_trade      17775\n",
              "Y  reg_sho_short_sale_price_test_restricted_indic...       9025\n",
              "H                               stock_trading_action       8897\n",
              "R                                    stock_directory       8887\n",
              "S                                       system_event          6\n",
              "J                                luld_auction_collar          2\n",
              "V          market_wide_circuit_breaker_decline_level          1\n",
              "B                                       broken_trade          1"
            ]
          },
          "metadata": {
            "tags": []
          },
          "execution_count": 37
        }
      ]
    },
    {
      "cell_type": "code",
      "metadata": {
        "id": "eKvtCxl98mEk"
      },
      "source": [
        "with pd.HDFStore(itch_store) as store:\n",
        "  store.put('summary', counter)"
      ],
      "execution_count": 38,
      "outputs": []
    },
    {
      "cell_type": "markdown",
      "metadata": {
        "id": "7QRIejyr-pXh"
      },
      "source": [
        "### Top Equities by Traded Value"
      ]
    },
    {
      "cell_type": "code",
      "metadata": {
        "id": "zg8snFG88m57",
        "outputId": "c2300aee-1fe0-4dd9-b463-b94c2bb35ba8",
        "colab": {
          "base_uri": "https://localhost:8080/",
          "height": 364
        }
      },
      "source": [
        "with pd.HDFStore(itch_store) as store:\n",
        "  stocks = store['R'].loc[:, ['stock_locate', 'stock']]\n",
        "  trades = store['P'].append(store['Q'].rename(columns={'cross_price': 'price'}), sort=False).merge(stocks)\n",
        "\n",
        "trades['value'] = trades.shares.mul(trades.price)\n",
        "trades['value_share'] = trades.value.div(trades.value.sum())\n",
        "\n",
        "trade_summary = trades.groupby('stock').value_share.sum().sort_values(ascending=False)\n",
        "trade_summary.iloc[:50].plot.bar(figsize=(14, 6), color='darkblue', title='Share of Traded Value')\n",
        "\n",
        "plt.gca().yaxis.set_major_formatter(FuncFormatter(lambda y, _: '{:.0%}'.format(y)))\n",
        "sns.despine()\n",
        "plt.tight_layout()"
      ],
      "execution_count": 40,
      "outputs": [
        {
          "output_type": "display_data",
          "data": {
            "image/png": "[encoded data removed]",
            "text/plain": [
              "<Figure size 1008x432 with 1 Axes>"
            ]
          },
          "metadata": {
            "tags": []
          }
        }
      ]
    },
    {
      "cell_type": "code",
      "metadata": {
        "id": "gKWtgp-w8nHj",
        "outputId": "178c168f-07cc-4fda-9ede-a120217dd7f7",
        "colab": {
          "base_uri": "https://localhost:8080/",
          "height": 364
        }
      },
      "source": [
        "with pd.HDFStore(itch_store) as store:\n",
        "  stocks = store['R'].loc[:, ['stock_locate', 'stock']]\n",
        "  trades = store['P'].append(store['Q'].rename(columns={'cross_price': 'price'}), sort=False).merge(stocks)\n",
        "\n",
        "trades['value'] = trades.shares.mul(trades.price)\n",
        "trades['value_share'] = trades.value.div(trades.value.sum())\n",
        "\n",
        "trade_summary = trades.groupby('stock').value_share.sum().sort_values(ascending=False)\n",
        "trade_summary.iloc[:50].plot.bar(figsize=(14, 6), color='darkblue', title='Share of Traded Value')\n",
        "\n",
        "plt.gca().yaxis.set_major_formatter(FuncFormatter(lambda y, _: '{:.0%}'.format(y)))\n",
        "sns.despine()\n",
        "plt.tight_layout()"
      ],
      "execution_count": 42,
      "outputs": [
        {
          "output_type": "display_data",
          "data": {
            "image/png": "[encoded data removed]",
            "text/plain": [
              "<Figure size 1008x432 with 1 Axes>"
            ]
          },
          "metadata": {
            "tags": []
          }
        }
      ]
    }
  ]
}